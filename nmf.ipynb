{
 "cells": [
  {
   "cell_type": "markdown",
   "metadata": {},
   "source": [
    "# Non-Negative Matrix Factorization\n",
    "\n",
    "Factorization of a non-negative matrix into \n",
    "\n",
    "$x = WH$\n",
    "\n",
    "using **multiplicative weights update algorithm**."
   ]
  },
  {
   "cell_type": "code",
   "execution_count": 1,
   "metadata": {},
   "outputs": [],
   "source": [
    "import numpy as np\n",
    "import matplotlib.pyplot as plt\n",
    "from sklearn.datasets import load_wine\n",
    "plt.style.use('ggplot')\n",
    "%matplotlib inline"
   ]
  },
  {
   "cell_type": "code",
   "execution_count": 2,
   "metadata": {},
   "outputs": [],
   "source": [
    "# hyperparameters\n",
    "n_dim = 5\n",
    "it = 200"
   ]
  },
  {
   "cell_type": "code",
   "execution_count": 3,
   "metadata": {},
   "outputs": [
    {
     "data": {
      "text/plain": [
       "(178, 13)"
      ]
     },
     "execution_count": 3,
     "metadata": {},
     "output_type": "execute_result"
    }
   ],
   "source": [
    "x = load_wine()['data']\n",
    "x.shape # actual data shape"
   ]
  },
  {
   "cell_type": "code",
   "execution_count": 4,
   "metadata": {},
   "outputs": [
    {
     "data": {
      "text/plain": [
       "False"
      ]
     },
     "execution_count": 4,
     "metadata": {},
     "output_type": "execute_result"
    }
   ],
   "source": [
    "np.any(np.min(x,axis=0) < 0) # check nonnegativity"
   ]
  },
  {
   "cell_type": "code",
   "execution_count": 5,
   "metadata": {},
   "outputs": [],
   "source": [
    "# get number of features (columns)\n",
    "n_ft = x.shape[1]\n",
    "n_samp = x.shape[0]"
   ]
  },
  {
   "cell_type": "code",
   "execution_count": 6,
   "metadata": {},
   "outputs": [],
   "source": [
    "# x = WH\n",
    "W = np.random.uniform(0,1,(n_samp,n_dim))\n",
    "H = np.random.uniform(0,1,(n_dim,n_ft))"
   ]
  },
  {
   "cell_type": "code",
   "execution_count": 7,
   "metadata": {},
   "outputs": [
    {
     "name": "stdout",
     "output_type": "stream",
     "text": [
      "305344.7444170026\n",
      "4737555.187545797\n",
      "626766.8583509036\n",
      "116702.92253226296\n",
      "40065.00107019392\n",
      "24309.112284585444\n",
      "19801.352721907733\n",
      "17436.487509050596\n",
      "15863.317947761267\n",
      "14842.592095024349\n"
     ]
    }
   ],
   "source": [
    "# Multiplicative Update Rule (Lee and Seung)\n",
    "for i in range(it):\n",
    "    # Update H\n",
    "    H = H*np.dot(W.T,x)/np.dot(np.dot(W.T,W),H)\n",
    "\n",
    "    # Update W\n",
    "    W = W*np.dot(x,H.T)/np.dot(np.dot(W,H),H.T)\n",
    "    \n",
    "    if i % 20 == 0:\n",
    "        print(np.sum(x - np.dot(W,H))**2) # check error (frobenius norm)"
   ]
  },
  {
   "cell_type": "code",
   "execution_count": 8,
   "metadata": {},
   "outputs": [
    {
     "data": {
      "text/plain": [
       "(178, 13)"
      ]
     },
     "execution_count": 8,
     "metadata": {},
     "output_type": "execute_result"
    }
   ],
   "source": [
    "# Reproduce the matrix\n",
    "x_2 = np.dot(W,H)\n",
    "x_2.shape"
   ]
  },
  {
   "cell_type": "code",
   "execution_count": 9,
   "metadata": {},
   "outputs": [
    {
     "data": {
      "image/png": "[encoded data removed]",
      "text/plain": [
       "<Figure size 432x288 with 1 Axes>"
      ]
     },
     "metadata": {},
     "output_type": "display_data"
    }
   ],
   "source": [
    "# just for comparison, plot first two features\n",
    "plt.scatter(x_2[:,0],x_2[:,1],label='Reproduced')\n",
    "plt.scatter(x[:,0],x[:,1],label='Original')\n",
    "plt.title('Comparison')\n",
    "plt.legend()\n",
    "plt.show()"
   ]
  },
  {
   "cell_type": "code",
   "execution_count": null,
   "metadata": {},
   "outputs": [],
   "source": []
  }
 ],
 "metadata": {
  "kernelspec": {
   "display_name": "Python 3",
   "language": "python",
   "name": "python3"
  },
  "language_info": {
   "codemirror_mode": {
    "name": "ipython",
    "version": 3
   },
   "file_extension": ".py",
   "mimetype": "text/x-python",
   "name": "python",
   "nbconvert_exporter": "python",
   "pygments_lexer": "ipython3",
   "version": "3.6.5"
  }
 },
 "nbformat": 4,
 "nbformat_minor": 2
}
