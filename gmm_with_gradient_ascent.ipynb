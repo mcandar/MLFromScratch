{
 "cells": [
  {
   "cell_type": "markdown",
   "metadata": {},
   "source": [
    "# Gaussian Mixture Model using Gradient Ascent"
   ]
  },
  {
   "cell_type": "code",
   "execution_count": 1,
   "metadata": {},
   "outputs": [],
   "source": [
    "import numpy as np\n",
    "from numpy import apply_along_axis as apply\n",
    "import matplotlib.pyplot as plt\n",
    "from sklearn.datasets.samples_generator import make_blobs\n",
    "from sklearn.model_selection import train_test_split\n",
    "from scipy.stats import norm, multivariate_normal\n",
    "plt.style.use('ggplot')\n",
    "%matplotlib inline"
   ]
  },
  {
   "cell_type": "code",
   "execution_count": 2,
   "metadata": {},
   "outputs": [],
   "source": [
    "# hyperparameters\n",
    "k = 3\n",
    "it = 20\n",
    "lr = 0.005"
   ]
  },
  {
   "cell_type": "code",
   "execution_count": 3,
   "metadata": {},
   "outputs": [],
   "source": [
    "# generate a dataset\n",
    "X, Y = make_blobs(n_samples=1000, centers=5,cluster_std=1.2,random_state=123,n_features=1)\n",
    "X = X - np.min(X,axis=0)\n",
    "\n",
    "# split for training\n",
    "X_train, X_test, Y_train, Y_test = train_test_split(X,Y,test_size = 0.2)\n",
    "\n",
    "# initialize cluster centers within these limits\n",
    "#limits = np.quantile(X_train,[0.05,0.95],axis=0) # robust to outliers\n",
    "limits = np.r_[np.min(X_train,axis=0).reshape((1,-1)),np.max(X_train,axis=0).reshape((1,-1))]"
   ]
  },
  {
   "cell_type": "code",
   "execution_count": 4,
   "metadata": {},
   "outputs": [],
   "source": [
    "# initialize randomly\n",
    "mu = [apply(lambda x: np.random.uniform(x[0],x[1]),0,limits) for _ in range(k)]\n",
    "sigma = np.ones(k)*2\n",
    "\n",
    "#plt.hist(X_train)\n",
    "#plt.show()\n",
    "\n",
    "# initialize mixture weights\n",
    "mix = np.ones(k)/k\n",
    "N = X_train.shape[0]"
   ]
  },
  {
   "cell_type": "code",
   "execution_count": 5,
   "metadata": {},
   "outputs": [
    {
     "name": "stdout",
     "output_type": "stream",
     "text": [
      "-21708.683089449423\n",
      "-21542.19292292733\n",
      "-21260.51076121801\n",
      "-20960.590822777456\n",
      "-20663.257004241674\n",
      "-20374.272114703694\n",
      "-20095.024787312675\n",
      "-19825.513238912506\n",
      "-19565.314151738556\n",
      "-19313.901828512004\n",
      "-19070.75109893229\n",
      "-18835.368130514664\n",
      "-18607.297381882403\n",
      "-18386.120895564345\n",
      "-18171.45536996922\n",
      "-17962.94881579289\n",
      "-17760.277368828152\n",
      "-17563.14241393071\n",
      "-17371.268036886966\n",
      "-17184.398778607498\n"
     ]
    }
   ],
   "source": [
    "prob_list = []\n",
    "for i in range(it):\n",
    "    # probabilities for each distr.\n",
    "    prob = [multivariate_normal(m,s).pdf(X_train) for m,s in zip(mu,sigma)]\n",
    "    prob = np.asarray(prob).T\n",
    "    \n",
    "    # multiply with mixture weights\n",
    "    prob = prob * mix\n",
    "    \n",
    "    # normalize each row\n",
    "    prob = prob/np.sum(prob,axis=1).reshape((-1,1))\n",
    "    \n",
    "    ### Maximization step - multiply probabilities of each distr with data, and calc. mu and sigma\n",
    "    m_c = np.sum(prob,axis=0)\n",
    "    mix = m_c/X_train.shape[0] # new weights for each distr.\n",
    "    \n",
    "    # gradient ascent\n",
    "    for j in range(k):\n",
    "        m, s = mu[j], sigma[j]\n",
    "        tmp = np.sqrt(2*np.pi)\n",
    "        mu_deriv = (1/s**2)*np.sum(X_train - m) # derivative w.r.t. mu\n",
    "        sigma_deriv = (N*s*2*tmp)/np.log(s**2*tmp) + (1/(3*(s**3))*np.sum((X_train - m)**2)) # derivative w.r.t. sigma\n",
    "        \n",
    "        # update parameters according to gradient direction\n",
    "        mu[j] = m + (mu_deriv/N) * lr\n",
    "        sigma[j] = s + (sigma_deriv/N) * lr\n",
    "\n",
    "    prob_list.append(np.sum(np.log(prob)))\n",
    "    print(prob_list[-1])"
   ]
  },
  {
   "cell_type": "code",
   "execution_count": 6,
   "metadata": {},
   "outputs": [],
   "source": [
    "def log_prob(x,mix,mu,sigma):\n",
    "    prob = [multivariate_normal(m,s).pdf(x) for m,s in zip(mu,sigma)]\n",
    "    prob = np.asarray(prob).T\n",
    "    prob = prob*mix\n",
    "    return np.sum(prob,axis=1)"
   ]
  },
  {
   "cell_type": "code",
   "execution_count": 7,
   "metadata": {},
   "outputs": [
    {
     "data": {
      "image/png": "[encoded data removed]",
      "text/plain": [
       "<Figure size 432x288 with 1 Axes>"
      ]
     },
     "metadata": {},
     "output_type": "display_data"
    }
   ],
   "source": [
    "x = np.linspace(limits[0][0],limits[1][0])\n",
    "x_probs = log_prob(x,mix,mu,sigma)\n",
    "\n",
    "plt.hist(X_train)\n",
    "plt.plot(x,x_probs*1000)\n",
    "plt.show()"
   ]
  },
  {
   "cell_type": "code",
   "execution_count": null,
   "metadata": {},
   "outputs": [],
   "source": []
  }
 ],
 "metadata": {
  "kernelspec": {
   "display_name": "Python 3",
   "language": "python",
   "name": "python3"
  },
  "language_info": {
   "codemirror_mode": {
    "name": "ipython",
    "version": 3
   },
   "file_extension": ".py",
   "mimetype": "text/x-python",
   "name": "python",
   "nbconvert_exporter": "python",
   "pygments_lexer": "ipython3",
   "version": "3.6.5"
  }
 },
 "nbformat": 4,
 "nbformat_minor": 2
}
